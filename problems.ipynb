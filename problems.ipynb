{
 "cells": [
  {
   "cell_type": "markdown",
   "id": "750c7351",
   "metadata": {},
   "source": [
    "# Computer Infrastructure Problems\n",
    "\n",
    "This Juypter Notebook contains the problems covered in the [ATU module Computer Infrastructure](https://github.com/ianmcloughlin/computer-infrastructure/blob/main/assessment/problems.md)"
   ]
  },
  {
   "cell_type": "markdown",
   "id": "976cf464",
   "metadata": {},
   "source": [
    "## Problem 1: Data from yfinance\n",
    "\n",
    "Using the yfinance Python package, write a function called get_data() that downloads all hourly data for the previous five days for the five FAANG stocks:\n",
    "\n",
    "Facebook (META)\n",
    "Apple (AAPL)\n",
    "Amazon (AMZN)\n",
    "Netflix (NFLX)\n",
    "Google (GOOG)\n",
    "The function should save the data into a folder called data in the root of your repository using a filename with the format YYYYMMDD-HHmmss.csv where YYYYMMDD is the four-digit year (e.g. 2025), followed by the two-digit month (e.g. 09 for September), followed by the two digit day, and HHmmss is hour, minutes, seconds. Create the data folder if you don't already have one."
   ]
  },
  {
   "cell_type": "markdown",
   "id": "af2ed04d",
   "metadata": {},
   "source": [
    "## Install packages\n",
    "\n",
    "Install all packages and libraries required for this assessment. Date time will handle dates and times, pandas will create dataframes and yfinance will give access the Yohoo Finance API.  "
   ]
  },
  {
   "cell_type": "code",
   "execution_count": null,
   "id": "61a06791",
   "metadata": {},
   "outputs": [],
   "source": [
    "# Dates and times.\n",
    "# https://docs.python.org/3/library/datetime.html\n",
    "import datetime as dt\n",
    "\n",
    "# Data frames.\n",
    "# https://pandas.pydata.org/docs/\n",
    "import pandas as pd\n",
    "\n",
    "\n",
    "# Yahoo Finance data.\n",
    "# https://ranaroussi.github.io/yfinance/reference/index.html\n",
    "import yfinance as yf\n",
    "\n"
   ]
  },
  {
   "cell_type": "markdown",
   "id": "3a9807b7",
   "metadata": {},
   "source": [
    "## Define the function.\n",
    "\n",
    "This function will download hourly data for the previous 5 days for FAANG stocks and saves it as a CSV file. \n",
    "\n",
    "The FAANG stocks are: \n",
    "\n",
    "Facebook (META)\n",
    "\n",
    "Apple (AAPL)\n",
    "\n",
    "Amazon (AMZN)\n",
    "\n",
    "Netflix (NFLX)\n",
    "\n",
    "Google (GOOG)\n",
    "\n",
    "## Create a Tickers object to work with multiple tickers at once.\n",
    "\n",
    "https://github.com/ranaroussi/yfinance#tickers\n",
    "\n",
    "Tickers are the identifiers for the function to pull the stock data from the desired company.\n",
    " \n",
    " \n",
    "## Download the data using yfinance.\n",
    "\n",
    "https://github.com/ranaroussi/yfinance#download\n",
    "\n",
    "Uses yf.download to retrieve historical data for multiple tickers at once.\n",
    "\n",
    "This will returns a pandas DataFrame with a MultiIndex columns (attribute, ticker).\n",
    "\n",
    "\n",
    "## Save the data to a CSV file with a timestamped filename\n",
    "\n",
    "https://pandas.pydata.org/pandas-docs/stable/reference/api/pandas.DataFrame.to_csv.html\n",
    "\n",
    "The filename format is YYYYMMDD_HHMMSS.csv"
   ]
  },
  {
   "cell_type": "code",
   "execution_count": null,
   "id": "9d1867e6",
   "metadata": {},
   "outputs": [],
   "source": [
    "# Create a function to get the data from Yahoo Finance and save it as a CSV file\n",
    "def get_data():\n",
    "    # Download historical data for multiple tickers\n",
    "    data = yf.download([\"META\", \"AAPL\", \"AMZN\", \"NFLX\", \"GOOG\"], period=\"5d\", interval=\"1h\")\n",
    "    #\n",
    "    data.to_csv(f\"data/{dt.datetime.now().strftime('%Y%m%d_%H%M%S')}.csv\")\n",
    "    return data"
   ]
  },
  {
   "cell_type": "code",
   "execution_count": 28,
   "id": "1eacf642",
   "metadata": {},
   "outputs": [],
   "source": [
    "def get_data():\n",
    "    \n",
    "    # Define FAANG tickers\n",
    "    tickers = [\"META\", \"AAPL\", \"AMZN\", \"NFLX\", \"GOOG\"]\n",
    "    \n",
    "    # Download data using yfinance (hourly interval, past 5 days)\n",
    "    print(\"Downloading hourly data for FAANG stocks...\")\n",
    "    data = yf.download(\n",
    "        tickers=tickers,\n",
    "        period=\"5d\",\n",
    "        interval=\"1h\"\n",
    "    )\n"
   ]
  },
  {
   "cell_type": "code",
   "execution_count": 29,
   "id": "b10f2f64",
   "metadata": {},
   "outputs": [
    {
     "name": "stderr",
     "output_type": "stream",
     "text": [
      "/tmp/ipykernel_38815/4257815219.py:8: FutureWarning: YF.download() has changed argument auto_adjust default to True\n",
      "  data = yf.download(\n",
      "[**********************60%****                   ]  3 of 5 completed"
     ]
    },
    {
     "name": "stdout",
     "output_type": "stream",
     "text": [
      "Downloading hourly data for FAANG stocks...\n"
     ]
    },
    {
     "name": "stderr",
     "output_type": "stream",
     "text": [
      "[*********************100%***********************]  5 of 5 completed\n"
     ]
    },
    {
     "ename": "AttributeError",
     "evalue": "'NoneType' object has no attribute 'head'",
     "output_type": "error",
     "traceback": [
      "\u001b[31m---------------------------------------------------------------------------\u001b[39m",
      "\u001b[31mAttributeError\u001b[39m                            Traceback (most recent call last)",
      "\u001b[36mCell\u001b[39m\u001b[36m \u001b[39m\u001b[32mIn[29]\u001b[39m\u001b[32m, line 1\u001b[39m\n\u001b[32m----> \u001b[39m\u001b[32m1\u001b[39m \u001b[43mget_data\u001b[49m\u001b[43m(\u001b[49m\u001b[43m)\u001b[49m\u001b[43m.\u001b[49m\u001b[43mhead\u001b[49m()\n",
      "\u001b[31mAttributeError\u001b[39m: 'NoneType' object has no attribute 'head'"
     ]
    }
   ],
   "source": [
    "get_data().head()"
   ]
  }
 ],
 "metadata": {
  "kernelspec": {
   "display_name": "Python 3",
   "language": "python",
   "name": "python3"
  },
  "language_info": {
   "codemirror_mode": {
    "name": "ipython",
    "version": 3
   },
   "file_extension": ".py",
   "mimetype": "text/x-python",
   "name": "python",
   "nbconvert_exporter": "python",
   "pygments_lexer": "ipython3",
   "version": "3.12.1"
  }
 },
 "nbformat": 4,
 "nbformat_minor": 5
}
