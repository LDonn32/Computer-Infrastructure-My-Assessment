{
 "cells": [
  {
   "cell_type": "markdown",
   "id": "55d937a7",
   "metadata": {},
   "source": [
    "# yFinance"
   ]
  },
  {
   "cell_type": "markdown",
   "id": "1f7edf11",
   "metadata": {},
   "source": [
    "https://github.com/ranaroussi/yfinance"
   ]
  },
  {
   "cell_type": "markdown",
   "id": "3c591f65",
   "metadata": {},
   "source": [
    "Historical price data and company information for stocks."
   ]
  },
  {
   "cell_type": "markdown",
   "id": "c1f874dc",
   "metadata": {},
   "source": [
    "Problem 1: Data from yfinance\n",
    "Author: Laura Donnelly\n",
    "\n",
    "Links researched as doing this problem\n",
    "\n",
    "https://www.geeksforgeeks.org/python/how-to-use-yfinance-api-with-python/\n",
    "\n",
    "\n",
    "https://pythonfintech.com/articles/how-to-download-market-data-yfinance-python/\n",
    "\n"
   ]
  },
  {
   "cell_type": "code",
   "execution_count": 1,
   "id": "d41ce3b2",
   "metadata": {},
   "outputs": [],
   "source": [
    "# Dates and times.\n",
    "import datetime as dt\n",
    "\n",
    "# Data frames.\n",
    "import pandas as pd\n",
    "\n",
    "# Yahoo Finance data.\n",
    "import yfinance as yf"
   ]
  }
 ],
 "metadata": {
  "kernelspec": {
   "display_name": "Python 3",
   "language": "python",
   "name": "python3"
  },
  "language_info": {
   "codemirror_mode": {
    "name": "ipython",
    "version": 3
   },
   "file_extension": ".py",
   "mimetype": "text/x-python",
   "name": "python",
   "nbconvert_exporter": "python",
   "pygments_lexer": "ipython3",
   "version": "3.12.1"
  }
 },
 "nbformat": 4,
 "nbformat_minor": 5
}
