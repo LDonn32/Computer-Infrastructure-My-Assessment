{
 "cells": [
  {
   "cell_type": "markdown",
   "id": "73b8791e",
   "metadata": {},
   "source": [
    "## Problem 1: Data from yfinance\n",
    "\n",
    "Using the yfinance Python package, write a function called get_data() that downloads all hourly data for the previous five days for the five FAANG stocks:\n",
    "\n",
    "Facebook (META)\n",
    "Apple (AAPL)\n",
    "Amazon (AMZN)\n",
    "Netflix (NFLX)\n",
    "Google (GOOG)\n",
    "The function should save the data into a folder called data in the root of your repository using a filename with the format YYYYMMDD-HHmmss.csv where YYYYMMDD is the four-digit year (e.g. 2025), followed by the two-digit month (e.g. 09 for September), followed by the two digit day, and HHmmss is hour, minutes, seconds. Create the data folder if you don't already have one."
   ]
  },
  {
   "cell_type": "markdown",
   "id": "c1f874dc",
   "metadata": {},
   "source": [
    "\n",
    "\n",
    "Author: Laura Donnelly\n",
    "\n",
    "Links researched prior to doing this problem\n",
    "\n",
    "\n",
    "\n",
    "https://www.geeksforgeeks.org/python/how-to-use-yfinance-api-with-python/\n",
    "\n",
    "\n",
    "https://pythonfintech.com/articles/how-to-download-market-data-yfinance-python/\n",
    "\n"
   ]
  },
  {
   "cell_type": "markdown",
   "id": "ad3e3cea",
   "metadata": {},
   "source": [
    "Information on yfinance available in the following github repository\n",
    "\n",
    "https://github.com/ranaroussi/yfinance\n",
    "\n"
   ]
  },
  {
   "cell_type": "markdown",
   "id": "bd16fef8",
   "metadata": {},
   "source": [
    "## Install packages."
   ]
  },
  {
   "cell_type": "code",
   "execution_count": 34,
   "id": "d41ce3b2",
   "metadata": {},
   "outputs": [],
   "source": [
    "# Dates and times.\n",
    "import datetime as dt\n",
    "\n",
    "# Data frames.\n",
    "import pandas as pd\n",
    "\n",
    "# Yahoo Finance data.\n",
    "import yfinance as yf\n",
    "\n",
    "# Import os module.\n",
    "import os"
   ]
  },
  {
   "cell_type": "markdown",
   "id": "05681d93",
   "metadata": {},
   "source": [
    "## Define the function.\n",
    "\n",
    "This function will download hourly data for the previous 5 days for FAANG stocks and saves it as a CSV file. \n",
    "\n",
    "The FAANG stocks are: \n",
    "\n",
    "Facebook (META)\n",
    "\n",
    "Apple (AAPL)\n",
    "\n",
    "Amazon (AMZN)\n",
    "\n",
    "Netflix (NFLX)\n",
    "\n",
    "Google (GOOG)\n",
    "\n",
    "## Create a Tickers object to work with multiple tickers at once.\n",
    "\n",
    "https://github.com/ranaroussi/yfinance#tickers\n",
    "\n",
    "Tickers are the identifiers for the function to pull the stock data from the desired company.\n",
    " \n",
    " \n",
    "## Download the data using yfinance.\n",
    "\n",
    "https://github.com/ranaroussi/yfinance#download\n",
    "\n",
    "Uses yf.download to retrieve historical data for multiple tickers at once.\n",
    "\n",
    "This will returns a pandas DataFrame with a MultiIndex columns (attribute, ticker).\n"
   ]
  },
  {
   "cell_type": "code",
   "execution_count": null,
   "id": "ee87b0e0",
   "metadata": {},
   "outputs": [
    {
     "name": "stderr",
     "output_type": "stream",
     "text": [
      "/tmp/ipykernel_25430/3896866509.py:16: FutureWarning: YF.download() has changed argument auto_adjust default to True\n",
      "  data = yf.download(\n",
      "[**********************60%****                   ]  3 of 5 completed"
     ]
    },
    {
     "name": "stdout",
     "output_type": "stream",
     "text": [
      "Downloading hourly data for FAANG stocks...\n"
     ]
    },
    {
     "name": "stderr",
     "output_type": "stream",
     "text": [
      "[*********************100%***********************]  5 of 5 completed\n"
     ]
    },
    {
     "ename": "AttributeError",
     "evalue": "module 'datetime' has no attribute 'now'",
     "output_type": "error",
     "traceback": [
      "\u001b[31m---------------------------------------------------------------------------\u001b[39m",
      "\u001b[31mAttributeError\u001b[39m                            Traceback (most recent call last)",
      "\u001b[36mCell\u001b[39m\u001b[36m \u001b[39m\u001b[32mIn[35]\u001b[39m\u001b[32m, line 39\u001b[39m\n\u001b[32m     36\u001b[39m     \u001b[38;5;28;01mreturn\u001b[39;00m filepath\n\u001b[32m     38\u001b[39m \u001b[38;5;66;03m# Call the function directly\u001b[39;00m\n\u001b[32m---> \u001b[39m\u001b[32m39\u001b[39m \u001b[43mget_data\u001b[49m\u001b[43m(\u001b[49m\u001b[43m)\u001b[49m\n",
      "\u001b[36mCell\u001b[39m\u001b[36m \u001b[39m\u001b[32mIn[35]\u001b[39m\u001b[32m, line 28\u001b[39m, in \u001b[36mget_data\u001b[39m\u001b[34m()\u001b[39m\n\u001b[32m     25\u001b[39m os.makedirs(data_dir, exist_ok=\u001b[38;5;28;01mTrue\u001b[39;00m)\n\u001b[32m     27\u001b[39m \u001b[38;5;66;03m# Generate timestamp for filename\u001b[39;00m\n\u001b[32m---> \u001b[39m\u001b[32m28\u001b[39m timestamp = \u001b[43mdt\u001b[49m\u001b[43m.\u001b[49m\u001b[43mnow\u001b[49m().strftime(\u001b[33m\"\u001b[39m\u001b[33m%\u001b[39m\u001b[33mY\u001b[39m\u001b[33m%\u001b[39m\u001b[33mm\u001b[39m\u001b[38;5;132;01m%d\u001b[39;00m\u001b[33m-\u001b[39m\u001b[33m%\u001b[39m\u001b[33mH\u001b[39m\u001b[33m%\u001b[39m\u001b[33mM\u001b[39m\u001b[33m%\u001b[39m\u001b[33mS\u001b[39m\u001b[33m\"\u001b[39m)\n\u001b[32m     29\u001b[39m filename = \u001b[33mf\u001b[39m\u001b[33m\"\u001b[39m\u001b[38;5;132;01m{\u001b[39;00mtimestamp\u001b[38;5;132;01m}\u001b[39;00m\u001b[33m.csv\u001b[39m\u001b[33m\"\u001b[39m\n\u001b[32m     30\u001b[39m filepath = os.path.join(data_dir, filename)\n",
      "\u001b[31mAttributeError\u001b[39m: module 'datetime' has no attribute 'now'"
     ]
    }
   ],
   "source": [
    "import os\n",
    "import yfinance as yf\n",
    "import pandas as pd\n",
    "import datetime as dt\n",
    "\n",
    "def get_data():\n",
    "    \n",
    "    # Define FAANG tickers\n",
    "    tickers = [\"META\", \"AAPL\", \"AMZN\", \"NFLX\", \"GOOG\"]\n",
    "    \n",
    "    # Download data using yfinance (hourly interval, past 5 days)\n",
    "    print(\"Downloading hourly data for FAANG stocks...\")\n",
    "    data = yf.download(\n",
    "        tickers=tickers,\n",
    "        period=\"5d\",\n",
    "        interval=\"1h\",\n",
    "        group_by='ticker'\n",
    "    )\n",
    "\n",
    "   \n",
    "    # Generate timestamp for filename\n",
    "    timestamp = dt.now().strftime(\"%Y%m%d-%H%M%S\")\n",
    "    filename = f\"{timestamp}.csv\"\n",
    "    filepath = os.path.join(data_dir, filename)\n",
    "\n",
    "    # Save the combined dataframe to CSV\n",
    "    data.to_csv(filepath)\n",
    "\n",
    "    print(f\"Data successfully saved to: {filepath}\")\n",
    "    return filepath\n",
    "\n",
    "# Call the function directly\n",
    "get_data()\n"
   ]
  },
  {
   "cell_type": "markdown",
   "id": "623b8929",
   "metadata": {},
   "source": [
    "## Download the data using yfinance.\n",
    "\n",
    "https://github.com/ranaroussi/yfinance#download\n",
    "\n",
    "Setting \n",
    "\n",
    "\n"
   ]
  }
 ],
 "metadata": {
  "kernelspec": {
   "display_name": "Python 3",
   "language": "python",
   "name": "python3"
  },
  "language_info": {
   "codemirror_mode": {
    "name": "ipython",
    "version": 3
   },
   "file_extension": ".py",
   "mimetype": "text/x-python",
   "name": "python",
   "nbconvert_exporter": "python",
   "pygments_lexer": "ipython3",
   "version": "3.12.1"
  }
 },
 "nbformat": 4,
 "nbformat_minor": 5
}
